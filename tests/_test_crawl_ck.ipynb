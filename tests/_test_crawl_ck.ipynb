{
 "cells": [
  {
   "cell_type": "code",
   "execution_count": 7,
   "metadata": {},
   "outputs": [
    {
     "data": {
      "text/plain": [
       "'https://ck101.com/forum.php?mod=viewthread&tid=3435497&extra=&page=80'"
      ]
     },
     "execution_count": 7,
     "metadata": {},
     "output_type": "execute_result"
    }
   ],
   "source": [
    "import requests\n",
    "from requests import Session\n",
    "\n",
    "s = Session()\n",
    "s.headers.update(\n",
    "    {\n",
    "        'User-Agent': \"Mozilla/5.0 (Windows NT 10.0; Win64; x64) AppleWebKit/537.36 (KHTML, like Gecko) Chrome/70.0.3538.102 Safari/537.36\"\n",
    "    }\n",
    ")\n"
   ]
  },
  {
   "cell_type": "code",
   "execution_count": 8,
   "metadata": {},
   "outputs": [],
   "source": [
    "resp = s.get('https://ck101.com/forum.php?mod=viewthread&tid=3435497&extra=&page=80')"
   ]
  },
  {
   "cell_type": "code",
   "execution_count": 11,
   "metadata": {},
   "outputs": [],
   "source": [
    "with open('input/p80.html', 'wt') as fp:\n",
    "    fp.write(resp.text)"
   ]
  },
  {
   "cell_type": "code",
   "execution_count": null,
   "metadata": {
    "scrolled": true
   },
   "outputs": [],
   "source": [
    "import os\n",
    "for i in range(199):\n",
    "    url = f'https://ck101.com/forum.php?mod=viewthread&tid=3435497&extra=&page={i+1}'\n",
    "    fn = f'input/p{i+1}.html'\n",
    "    print(url, fn, os.path.isfile(fn))\n",
    "    if os.path.isfile(fn):\n",
    "        continue\n",
    "    resp = s.get(url)\n",
    "    with open(fn, 'wt') as fp:\n",
    "        fp.write(resp.text)"
   ]
  },
  {
   "cell_type": "code",
   "execution_count": 58,
   "metadata": {
    "scrolled": false
   },
   "outputs": [
    {
     "name": "stdout",
     "output_type": "stream",
     "text": [
      "【作者概要】：緣分0，男，縱橫中文網與起點作家。　　緣分0，網絡超人氣作家，成名作《天風》。　　緣分0每本書都在提高自己的寫作水品，繼全能鍊金師大獲成功之後 ... [東方玄幻] 原血神座 作者：緣分0 (連載中)  ([東方玄幻] 原血神座 作者：緣分0 (連載中))\n"
     ]
    }
   ],
   "source": [
    "from pyquery import PyQuery as pq\n",
    "from dataclasses import dataclass\n",
    "@dataclass\n",
    "class CkBook:\n",
    "    tid: None\n",
    "\n",
    "    def prepare(self):\n",
    "        try:\n",
    "            work_folder = f'output/ck101'\n",
    "            os.mkdir(work_folder)\n",
    "        except FileExistsError:\n",
    "            pass\n",
    "        try:\n",
    "            work_folder = os.path.join(work_folder, str(self.tid))\n",
    "            os.mkdir(work_folder)\n",
    "        except FileExistsError:\n",
    "            pass\n",
    "        self.work_folder = work_folder\n",
    "        fn = os.path.join(work_folder, 'p1.html')\n",
    "        if not os.path.isfile(fn):\n",
    "            self.get_page(1)\n",
    "        with open(fn, 'rt') as fp:\n",
    "            html = fp.read()\n",
    "            d = pq(html)\n",
    "        return d\n",
    "\n",
    "    def get_page(self, p):\n",
    "        url = f'https://ck101.com/forum.php?mod=viewthread&tid={self.tid}&extra=&page={p}'\n",
    "        fn = os.path.join(self.work_folder, f'p{p}.html')\n",
    "        try:\n",
    "            self.s\n",
    "        except AttributeError:\n",
    "            self.s = Session()\n",
    "            h = {'User-Agent': \"Mozilla/5.0 (Windows NT 10.0; Win64; x64) AppleWebKit/537.36 (KHTML, like Gecko) Chrome/70.0.3538.102 Safari/537.36\"}\n",
    "            self.s.headers.update(h)\n",
    "        resp = self.s.get(url)\n",
    "        with open(fn, 'wt') as fp:\n",
    "            fp.write(resp.text)        \n",
    "\n",
    "book = CkBook(3712209)\n",
    "d = book.prepare()\n",
    "print(d('meta[name=\"description\"]')[0].get('content'))"
   ]
  }
 ],
 "metadata": {
  "kernelspec": {
   "display_name": "Python 3",
   "language": "python",
   "name": "python3"
  },
  "language_info": {
   "codemirror_mode": {
    "name": "ipython",
    "version": 3
   },
   "file_extension": ".py",
   "mimetype": "text/x-python",
   "name": "python",
   "nbconvert_exporter": "python",
   "pygments_lexer": "ipython3",
   "version": "3.7.0"
  }
 },
 "nbformat": 4,
 "nbformat_minor": 2
}
