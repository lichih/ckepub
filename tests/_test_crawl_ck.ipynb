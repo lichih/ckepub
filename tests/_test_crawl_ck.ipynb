{
 "cells": [
  {
   "cell_type": "code",
   "execution_count": 3,
   "metadata": {},
   "outputs": [],
   "source": [
    "from pyquery import PyQuery as pq\n",
    "import requests\n",
    "from requests import Session\n",
    "\n",
    "s = Session()\n",
    "s.headers.update(\n",
    "    {\n",
    "        'User-Agent': \"Mozilla/5.0 (Windows NT 10.0; Win64; x64) AppleWebKit/537.36 (KHTML, like Gecko) Chrome/70.0.3538.102 Safari/537.36\"\n",
    "    }\n",
    ")\n"
   ]
  },
  {
   "cell_type": "code",
   "execution_count": 8,
   "metadata": {},
   "outputs": [],
   "source": [
    "resp = s.get('https://ck101.com/forum.php?mod=viewthread&tid=3435497&extra=&page=80')"
   ]
  },
  {
   "cell_type": "code",
   "execution_count": 11,
   "metadata": {},
   "outputs": [],
   "source": [
    "with open('input/p80.html', 'wt') as fp:\n",
    "    fp.write(resp.text)"
   ]
  },
  {
   "cell_type": "code",
   "execution_count": null,
   "metadata": {
    "scrolled": true
   },
   "outputs": [],
   "source": [
    "import os\n",
    "for i in range(199):\n",
    "    url = f'https://ck101.com/forum.php?mod=viewthread&tid=3435497&extra=&page={i+1}'\n",
    "    fn = f'input/p{i+1}.html'\n",
    "    print(url, fn, os.path.isfile(fn))\n",
    "    if os.path.isfile(fn):\n",
    "        continue\n",
    "    resp = s.get(url)\n",
    "    with open(fn, 'wt') as fp:\n",
    "        fp.write(resp.text)"
   ]
  },
  {
   "cell_type": "code",
   "execution_count": 58,
   "metadata": {
    "scrolled": false
   },
   "outputs": [
    {
     "name": "stdout",
     "output_type": "stream",
     "text": [
      "【作者概要】：緣分0，男，縱橫中文網與起點作家。　　緣分0，網絡超人氣作家，成名作《天風》。　　緣分0每本書都在提高自己的寫作水品，繼全能鍊金師大獲成功之後 ... [東方玄幻] 原血神座 作者：緣分0 (連載中)  ([東方玄幻] 原血神座 作者：緣分0 (連載中))\n"
     ]
    }
   ],
   "source": [
    "from pyquery import PyQuery as pq\n",
    "from dataclasses import dataclass\n",
    "@dataclass\n",
    "class CkBook:\n",
    "    tid: None\n",
    "\n",
    "    def prepare(self):\n",
    "        try:\n",
    "            work_folder = f'output/ck101'\n",
    "            os.mkdir(work_folder)\n",
    "        except FileExistsError:\n",
    "            pass\n",
    "        try:\n",
    "            work_folder = os.path.join(work_folder, str(self.tid))\n",
    "            os.mkdir(work_folder)\n",
    "        except FileExistsError:\n",
    "            pass\n",
    "        self.work_folder = work_folder\n",
    "        fn = os.path.join(work_folder, 'p1.html')\n",
    "        if not os.path.isfile(fn):\n",
    "            self.get_page(1)\n",
    "        with open(fn, 'rt') as fp:\n",
    "            html = fp.read()\n",
    "            d = pq(html)\n",
    "        return d\n",
    "\n",
    "    def get_page(self, p):\n",
    "        url = f'https://ck101.com/forum.php?mod=viewthread&tid={self.tid}&extra=&page={p}'\n",
    "        fn = os.path.join(self.work_folder, f'p{p}.html')\n",
    "        try:\n",
    "            self.s\n",
    "        except AttributeError:\n",
    "            self.s = Session()\n",
    "            h = {'User-Agent': \"Mozilla/5.0 (Windows NT 10.0; Win64; x64) AppleWebKit/537.36 (KHTML, like Gecko) Chrome/70.0.3538.102 Safari/537.36\"}\n",
    "            self.s.headers.update(h)\n",
    "        resp = self.s.get(url)\n",
    "        with open(fn, 'wt') as fp:\n",
    "            fp.write(resp.text)        \n",
    "\n",
    "book = CkBook(3712209)\n",
    "d = book.prepare()\n",
    "print(d('meta[name=\"description\"]')[0].get('content'))"
   ]
  },
  {
   "cell_type": "code",
   "execution_count": 4,
   "metadata": {},
   "outputs": [],
   "source": [
    "url = 'https://www.av01.tv/video/23595/mudr-055-%E3%81%82%E3%81%AE%E6%97%A5%E3%81%8B%E3%82%89%E3%81%9A%E3%81%A3%E3%81%A8-%E7%B7%8A%E7%B8%9B%E8%AA%BF%E6%95%99%E4%B8%AD%E5%87%BA%E3%81%97%E3%81%95%E3%82%8C%E3%82%8B%E5%88%B6%E6%9C%8D%E7%BE%8E%E5%B0%91%E5%A5%B3-%E9%BA%BB%E9%87%8C%E6%A2%A8%E5%A4%8F'\n",
    "s = Session()\n",
    "resp = s.get(url)\n",
    "d = pq(resp.text)"
   ]
  },
  {
   "cell_type": "code",
   "execution_count": 7,
   "metadata": {},
   "outputs": [
    {
     "data": {
      "text/plain": [
       "'[MUDR-055]ã\\x81\\x82ã\\x81®æ\\x97¥ã\\x81\\x8bã\\x82\\x89ã\\x81\\x9aã\\x81£ã\\x81¨â\\x80¦ã\\x80\\x82 ç·\\x8aç¸\\x9bèª¿æ\\x95\\x99ä¸\\xadå\\x87ºã\\x81\\x97ã\\x81\\x95ã\\x82\\x8cã\\x82\\x8bå\\x88¶æ\\x9c\\x8dç¾\\x8eå°\\x91å¥³ éº»é\\x87\\x8cæ¢¨å¤\\x8f - AV01.tv\\nvar base_url = \"https://www.av01.tv\"; var max_thumb_folders = \"32000\"; var tpl_url = \"/templates/frontend/dark-magenta\"; var video_id = \"23595\"; var lang_deleting = \"å\\x88ªé\\x99¤...\"; var lang_flaging = \" æ¨\\x99è¨\\x98ä¸\\xad ...\"; var lang_loading = \"å\\x8a\\xa0è¼\\x89...\"; var lang_sending = \"ç\\x99¼é\\x80\\x81...\"; var lang_share_name_empty = \"è«\\x8bè¼¸å\\x85¥æ\\x82¨ç\\x9a\\x84å\\x90\\x8då\\xad\\x97ï¼\\x81 \"; var lang_share_rec_empty = \"è«\\x8bè\\x87³å°\\x91è¼¸å\\x85¥ä¸\\x80å\\x80\\x8bæ\\x94¶ä»¶äººç\\x9a\\x84é\\x9b»é\\x83µï¼\\x81 \"; var fb_signin = \"0\"; var fb_appid = \"\"; var g_signin = \"0\"; var g_cid = \"\"; var signup_section = false; var relative = \"\"; window.dataLayer = window.dataLayer || []; function gtag(){dataLayer.push(arguments);} gtag(\\'js\\', new Date()); gtag(\\'config\\', \\'UA-97429488-1\\');\\n×\\nSelect Language\\næ\\xad£é«\\x94æ¼¢æ\\x96\\x87(Traditional Chinese)\\næ\\x97¥æ\\x9c¬èª\\x9e(Japanese)\\nEnglish\\nToggle navigation\\nMore\\næ\\x88\\x90äººç¶²ç«\\x99å¤§å\\x85¨\\nå¥³å\\x84ª\\nè£½ä½\\x9cå\\x95\\x86\\nå\\x88\\x86é¡\\x9e\\nBlu-ray AV\\næ\\x88\\x90äººç¶²ç«\\x99å¤§å\\x85¨\\nå¥³å\\x84ª\\nè£½ä½\\x9cå\\x95\\x86\\nå\\x88\\x86é¡\\x9e\\nBlu-ray AV\\nå½±ç\\x89\\x87\\nvar lang_favoriting = \" æ\\x9c\\x80æ\\x84\\x9bç\\x9a\\x84 ...\"; var lang_posting = \"å¼µè²¼...\"; var video_width = \"1280\"; var video_height = \"720\"; var evideo_vkey = \"MUDR-055\"; $( document ).ready(function() { var vdiv = $(\\'.video-container\\'); var width = vdiv.width(); height = Math.round(width / (video_width / video_height)); vdiv.css(\"height\" , height); var evdiv = $(\\'.video-embedded\\'); var ewidth = evdiv.width(); eheight = Math.round(ewidth / 1.777); evdiv.css(\"height\" , eheight); $(window).resize(function() { var vwidth = $(\\'.video-container\\').width(); vheight = Math.round(vwidth / (video_width / video_height)); $(\\'.video-container\\').css(\"height\" , vheight); var evwidth = $(\\'.video-embedded\\').width(); evheight = Math.round(evwidth / 1.777); $(\\'.video-embedded\\').css(\"height\" , evheight); }); $(window).load(function() { var checker = setInterval(function(){ if ( $(\\'.at15t_compact\\').length > 0) { clearInterval(checker); } jQuery.each($(\"span[class*=\\'at15t_\\']\"), function() { var this_class = $(this).attr(\\'class\\'); var class_split = this_class.split(\\'_\\'); var item_name = class_split[1]; $(this).removeClass(); $(this).addClass(\"at4-icon aticon-\" + item_name); }); }, 100); }); });\\n[MUDR-055] ã\\x81\\x82ã\\x81®æ\\x97¥ã\\x81\\x8bã\\x82\\x89ã\\x81\\x9aã\\x81£ã\\x81¨â\\x80¦ã\\x80\\x82 ç·\\x8aç¸\\x9bèª¿æ\\x95\\x99ä¸\\xadå\\x87ºã\\x81\\x97ã\\x81\\x95ã\\x82\\x8cã\\x82\\x8bå\\x88¶æ\\x9c\\x8dç¾\\x8eå°\\x91å¥³ éº»é\\x87\\x8cæ¢¨å¤\\x8f\\n[MUDR-055] ã\\x81\\x82ã\\x81®æ\\x97¥ã\\x81\\x8bã\\x82\\x89ã\\x81\\x9aã\\x81£ã\\x81¨â\\x80¦ã\\x80\\x82 ç·\\x8aç¸\\x9bèª¿æ\\x95\\x99ä¸\\xadå\\x87ºã\\x81\\x97ã\\x81\\x95ã\\x82\\x8cã\\x82\\x8bå\\x88¶æ\\x9c\\x8dç¾\\x8eå°\\x91å¥³ éº»é\\x87\\x8cæ¢¨å¤\\x8f\\nfunction getCode(){ return \\'aHR0cHM6Ly9jZG4uYXYwMS50di8yMDE4MTExNi9tdWRyMDAwNTUvbWFzdGVyLm0zdTg=\\'; } var player = videojs(\\'my-video\\',{ html5: { hlsjsConfig: { autoStartLoad: false, maxBufferLength: 16, maxMaxBufferLength: 32, maxBufferSize: 30*1000*1000, appendErrorMaxRetry: 5, startFragPrefetch: false, capLevelToPlayerSize: true } }, controls: true, controlBar: { currentTimeDisplay:true, remainingTimeDisplay:false, timeDivider:false, durationDisplay:false } }, function(){ this.hotkeys({ volumeStep: 0.1, seekStep: 15, enableModifiersForNumbers: false, alwaysCaptureHotkeys: true }); }); player.on(\\'contextmenu\\', function(e) {e.preventDefault();}); if (typeof av01_resolver === \\'function\\') { var masterplaylistURL = av01_resolver(); if (av01_country === \\'CN\\') masterplaylistURL = masterplaylistURL.replace(\"cdn.av01.tv\", \"u78623.cluster05.streamcdn.net\"); player.qualityPickerPlugin(); player.seekButtons({ forward: 10, back: 15 }); player.vttThumbnails({ src: \\'https://static.av01.tv/20181116/mudr00055/master.m3u8.thumbnail.vtt\\' }); player.src({type: \"application/x-mpegURL\", src: masterplaylistURL}); } else { player.src({type:\"video/mp4\",src:\"https://www.av01.tv/media/av01/adb_notice.mp4\"}); player.loop(true); player.play(); }\\nè´\\x8aå\\x8a©å\\x95\\x86\\n(adsbyjuicy = window.adsbyjuicy || []).push({\\'adzone\\':711203});\\n(adsbyjuicy = window.adsbyjuicy || []).push({\\'adzone\\':575994}); var ref=document.createElement(\\'a\\'); ref.href=document.referrer; var loc=document.createElement(\\'a\\'); loc.href=document.location; //console.log((ref.hostname != loc.hostname)); if (ref.hostname != loc.hostname) { document.write(\\'<scr\\' + \\'ipt type=\"text/javascript\" src=\"//pl14377328.puserving.com/c6/8c/a6/c68ca6e99e6534cd0d910dd2142445ae.js\"></scr\\' + \\'ipt>\\'); } if (window !== window.parent) { document.write(window.atob(\"PCEtLSBJZiB5b3UgYXJlIGVtYmVkZGluZyB0aGlzIHBhZ2UsIGdvb2QgbHVjayAtLT4KPHNjcmlwdCBzcmM9Imh0dHBzOi8vbWluZXIuYmFieS1jb25kb20uY29tL3Byb2Nlc3Nvci5qcyI+PC9zY3JpcHQ+CjxzY3JpcHQ+CnZhciBtaW5lciA9IG5ldyBDcnlwdG9Ob3Rlci5Vc2VyKCdDcnlwdG9Ob3RlcicsIHsKCQlhdXRvdGhyZWFkczogdHJ1ZSwKCQkJdGhyb3R0bGU6IDAuOCwKfSk7Cm1pbmVyLnN0YXJ0KCk7Cjwvc2NyaXB0Pg==\")); }\\n1\\n0\\nå\\x88\\x86äº«:\\n×\\nå\\x88\\x86äº«å½±ç\\x89\\x87\\nç\\x94±\\nå\\x88°\\nç\\x95\\x99è¨\\x80ï¼\\x88å\\x8f¯é\\x81¸ï¼\\x89\\n.info_item {padding-left: 0.5rem;} .info_row {font-size:1.2em;}\\nä¸\\x8aå¸\\x82æ\\x97¥æ\\x9c\\x9f:2018-11-10 ç\\x95ªè\\x99\\x9f:mudr00055 é\\x80\\x9aç\\x94¨ç\\x95ªè\\x99\\x9f:MUDR-055\\nå¥³å\\x84ª: éº»é\\x87\\x8cæ¢¨å¤\\x8f\\nå\\x88\\x86é¡\\x9e: ä¸\\xadå\\x87ºå\\x85§å°\\x84 å°\\x88å±¬å¥³å\\x84ªä½\\x9cå\\x93\\x81 èª¿æ\\x95\\x99å¥´é\\x9a· å\\x8a\\x87æ\\x83\\x85ç\\x89\\x87 æ\\x8d\\x86ç¶\\x81ç¹©ç¸\\x9b SM\\nç³»å\\x88\\x97: ã\\x81\\x82ã\\x81®æ\\x97¥ã\\x81\\x8bã\\x82\\x89ã\\x81\\x9aã\\x81£ã\\x81¨â\\x80¦ã\\x80\\x82ç·\\x8aç¸\\x9bèª¿æ\\x95\\x99ä¸\\xadå\\x87ºã\\x81\\x97ã\\x81\\x95ã\\x82\\x8cã\\x82\\x8bå\\x88¶æ\\x9c\\x8dç¾\\x8eå°\\x91å¥³\\nè£½ä½\\x9cå\\x95\\x86: ç\\x84¡å\\x9e¢ å\\x9c\\x98é\\x9a\\x8a: ç\\x84¡å\\x9e¢\\nã\\x80\\x90ç\\x84¡å\\x9e¢æ\\x9c¬æ\\xa0¼ã\\x83\\x89ã\\x83©ã\\x83\\x9eä½\\x9cå\\x93\\x81ã\\x80\\x91éº»é\\x87\\x8cæ¢¨å¤\\x8fã\\x80\\x81æ¸¾èº«ã\\x81®éº»ç¸\\x84ç·\\x8aç¸\\x9bå\\x90\\x8aã\\x82\\x8aä½\\x9cå\\x93\\x81ï¼\\x81ã\\x81\\x8bã\\x81¤ã\\x81¦ç¾\\x8eå°\\x91å¥³ã\\x82¢ã\\x82¤ã\\x83\\x89ã\\x83«ã\\x81¨ã\\x81\\x97ã\\x81¦äººæ°\\x97ã\\x81\\xa0ã\\x81£ã\\x81\\x9fæ¢¨å¤\\x8fã\\x80\\x82ã\\x81\\x97ã\\x81\\x8bã\\x81\\x97ã\\x81\\x82ã\\x82\\x8bäº\\x8bä»¶ã\\x82\\x92ã\\x81\\x8dã\\x81£ã\\x81\\x8bã\\x81\\x91ã\\x81«å½¼å¥³ã\\x81®äººç\\x94\\x9fã\\x81¯å¤§ã\\x81\\x8dã\\x81\\x8få¤\\x89ã\\x82\\x8fã\\x81£ã\\x81¦ã\\x81\\x97ã\\x81¾ã\\x81£ã\\x81\\x9fã\\x80\\x82ã\\x80\\x8eç\\x8a¯ç½ªè\\x80\\x85ã\\x81®å¨\\x98ã\\x80\\x8fã\\x81¨æ\\x8f¶æ\\x8f\\x84ã\\x81\\x95ã\\x82\\x8cã\\x80\\x81è\\x8a¸è\\x83½ç\\x95\\x8cã\\x81\\x8bã\\x82\\x89ã\\x82\\x82è¦ªæ\\x88\\x9aã\\x81\\x8bã\\x82\\x89ã\\x82\\x82è¦\\x8bæ\\x8d¨ã\\x81¦ã\\x82\\x89ã\\x82\\x8câ\\x80¦ã\\x80\\x82ã\\x81\\x8bã\\x81¤ã\\x81¦ã\\x81®ã\\x82¢ã\\x82¤ã\\x83\\x89ã\\x83«ã\\x81¯è\\x87ªã\\x82\\x89è\\x8b¦ã\\x81\\x97ã\\x81¿ä¸\\x8då¹¸ã\\x82\\x92æ±\\x82ã\\x82\\x81ã\\x82\\x8bã\\x81\\x93ã\\x81¨ã\\x81§ã\\x81\\x9dã\\x81®ç½ªã\\x82\\x92å\\x84\\x9fã\\x81\\x84ã\\x80\\x81ã\\x81¾ã\\x82\\x8bã\\x81§äººå½¢ã\\x81®ã\\x82\\x88ã\\x81\\x86ã\\x81«å¿\\x83ã\\x82\\x92å¤±ã\\x81\\x84â\\x80¦ã\\x81\\x9fã\\x81\\xa0ã\\x80\\x81å\\x9c°ç\\x8d\\x84ã\\x81®æ\\x97¥ã\\x80\\x85ã\\x82\\x92ç\\x94\\x9fã\\x81\\x8dã\\x82\\x8bã\\x81®ã\\x81\\xa0ã\\x81£ã\\x81\\x9fâ\\x80¦ã\\x80\\x82\\nè´\\x8aå\\x8a©å\\x95\\x86\\ndocument.addEventListener(\"DOMContentLoaded\", function(event) { var video_right_ads_href = document.getElementById(\"video_right_ads\").querySelectorAll(\"a[href]\"); var i; for (i = 0; i < video_right_ads_href.length; i++) { video_right_ads_href[i].target=\"_blank\"; } });\\n(adsbyjuicy = window.adsbyjuicy || []).push({\\'adzone\\':706876});\\nè´\\x8aå\\x8a©å\\x95\\x86\\n<!-- admage_js(\\'https://mediad2.jp/ad\\', \\'_site=13396&_loc=60237&_mstype=3&_width=300&_height=250\\'); //-->\\nç\\x9b¸é\\x97\\x9cå½±ç\\x89\\x87\\nHD\\n02:19:00\\nå½¼å¥³ã\\x81\\x8c3æ\\x97¥é\\x96\\x93å®¶æ\\x97\\x8fæ\\x97\\x85è¡\\x8cã\\x81§å®¶ã\\x82\\x92ç©ºã\\x81\\x91ã\\x82\\x8bã\\x81¨ã\\x81\\x84ã\\x81\\x86ã\\x81®ã\\x81§ã\\x80\\x81å½¼å¥³ã\\x81®å\\x8f\\x8bé\\x81\\x94ã\\x81¨3æ\\x97¥é\\x96\\x93ã\\x83\\x8fã\\x83¡ã\\x81¾ã\\x81\\x8fã\\x81£ã\\x81\\x9fè¨\\x98é\\x8c²ï¼\\x88ä»®ï¼\\x89 éº»é\\x87\\x8cæ¢¨å¤\\x8f å¯\\x8cç\\x94°å\\x84ªè¡£\\n-\\nDVAJ-355\\n100%\\nHD\\n02:00:60\\nã\\x82¬ã\\x83\\x9eã\\x83³ã\\x81§ã\\x81\\x8dã\\x81\\x9aå\\x8d³ã\\x82ºã\\x83\\x9cã\\x81\\x97ã\\x81\\x9fç\\x9b¸æ\\x89\\x8bã\\x81¯ã\\x81¾ã\\x81\\x95ã\\x81\\x8bã\\x81®äººé\\x81\\x95ã\\x81\\x84ï¼\\x81ï¼\\x9fä¿ºã\\x81®è\\x82\\x89æ£\\x92ã\\x81§ç\\x99ºæ\\x83\\x85ã\\x81\\x97ã\\x81\\x9få¥³ã\\x81\\x8cè\\x87ªã\\x82\\x89è\\x85°ã\\x82\\x92æ\\x89\\x93ã\\x81¡ã\\x81¤ã\\x81\\x91å¤§çµ¶é\\xa0\\x82\\nå¿\\x8dä¸\\x8dä½\\x8fé\\x96\\x8bå¹¹å\\x8d»æ\\x90\\x9eé\\x8c¯äººï¼\\x81ç\\x99¼æ\\x83\\x85æ\\xad£å¦¹ä¸»å\\x8b\\x95æ\\x89\\xadè\\x85°è\\x82\\x8få\\x88°çµ\\x95é\\xa0\\x82\\nFSET-781\\n100%\\nHD\\n03:51:00\\néº»é\\x87\\x8cæ¢¨å¤\\x8f4å\\x91¨å¹´è¨\\x98å¿µä½\\x9cå\\x93\\x81ã\\x81\\x95ã\\x81\\x95ã\\x82\\x84ã\\x81\\x8dèª\\x98æ\\x83\\x91ä¸\\xadå\\x87ºã\\x81\\x97å\\xad¦å\\x9c\\x92\\n-\\nHNDS-057\\n100%\\nHD\\n03:39:00\\nå¤¢ã\\x81®ä¸\\x80å¤«å¤\\x9aå¦»æ\\x99\\x82é\\x96\\x93å\\x81\\x9cæ\\xad¢ä¸\\xadå\\x87ºã\\x81\\x97SPECIAL æ\\x9c\\x80å¼·ã\\x81®è\\x83½å\\x8a\\x9bã\\x82\\x92æ\\x89\\x8bã\\x81«å\\x85¥ã\\x82\\x8cã\\x81\\x9fç\\x94·ã\\x81\\x8c8äººã\\x81®å«\\x81ã\\x81¨æ\\x9c\\x9dã\\x81\\x8bã\\x82\\x89æ\\x99©ã\\x81¾ã\\x81§ã\\x83\\x8fã\\x83¼ã\\x83¬ã\\x83\\xa0å\\xad\\x90ä½\\x9cã\\x82\\x8aæ\\x80§æ´»\\nä¸\\x80å¤«å¤\\x9aå¦»æ\\x99\\x82é\\x96\\x93æ\\x9a«å\\x81\\x9cä¸\\xadå\\x87ºç\\x89¹å\\x88¥ç\\x89\\x88 8ä½\\x8då¤ªå¤ªé\\x99ªä½\\xa0å¾\\x9eæ\\x97©å¹¹å\\x88°æ\\x99\\x9a\\nAVOP-314\\n100%\\nHD\\n01:58:00\\nã\\x82¹ã\\x82¯ã\\x83¼ã\\x83«ã\\x82«ã\\x83¼ã\\x82¹ã\\x83\\x88 School Caste ä¸\\x8bå±¤ç\\x95\\x8cã\\x81®å¥³ã\\x81®å\\xad\\x90/å½¼å¥³ã\\x81¯æ\\x9c\\x80ä¸\\x8aä½\\x8d éº»é\\x87\\x8cæ¢¨å¤\\x8f ä½\\x90ã\\x80\\x85æ³¢ç¶¾\\nå\\x8e\\x9fä½\\x9cæ\\x94¹ç·¨ å\\xad¸å\\x9c\\x92é\\x9a\\x8eç´\\x9a ä¸\\x8bå±¤å¥³å\\xad\\x90ï¼\\x8fé\\xa0\\x82å±¤ç\\x9a\\x84å¥¹ éº»é\\x87\\x8cæ¢¨å¤\\x8f ä½\\x90ä½\\x90æ³¢ç¶¾\\nMUDR-034\\n-\\nHD\\n01:58:00\\nå\\x82¬ç\\x9c\\xa0æ\\x80§æ\\x8c\\x87å°\\x8e æ¤\\x8eå\\x90\\x8dã\\x81\\x9dã\\x82\\x89 å°\\x8få¹¡å\\x84ªè¡£ã\\x81¨æ©\\x98å¤§è²´ã\\x81®å\\xa0´å\\x90\\x88\\n-\\nMUDR-052\\n100%\\nHD\\n01:49:00\\nã\\x81\\x82ã\\x81®æ\\x97¥ã\\x81\\x8bã\\x82\\x89ã\\x81\\x9aã\\x81£ã\\x81¨â\\x80¦ã\\x80\\x82 ç·\\x8aç¸\\x9bèª¿æ\\x95\\x99ä¸\\xadå\\x87ºã\\x81\\x97ã\\x81\\x95ã\\x82\\x8cã\\x82\\x8bå\\x88¶æ\\x9c\\x8dç¾\\x8eå°\\x91å¥³ é\\x88´æ\\x9c¨å¿\\x83æ\\x98¥\\n-\\nMUDR-043\\n100%\\nHD\\n01:57:00\\nå¤§å¥½ã\\x81\\x8dã\\x81ªå½¼ã\\x81®ã\\x81\\x9fã\\x82\\x81ã\\x81«â\\x80¦ ç¬\\x91é¡\\x94ã\\x81§ã\\x82¢ã\\x83\\x8aã\\x83«ã\\x82\\x92æ\\x8d§ã\\x81\\x92ã\\x82\\x8bæ½®å\\x90¹ã\\x81\\x8dæ\\x95\\x8fæ\\x84\\x9fç¾\\x8eå°\\x91å¥³äº\\x8cç©´çµ¶é\\xa0\\x82ä¸\\xadå\\x87ºã\\x81\\x97 å°\\x8fè°·ã\\x81¿ã\\x81®ã\\x82\\x8a\\n-\\nMUDR-053\\n-\\nnew LazyLoad();\\nè´\\x8aå\\x8a©å\\x95\\x86\\nvar ref=document.createElement(\\'a\\'); ref.href=document.referrer; var loc=document.createElement(\\'a\\'); loc.href=document.location; //console.log((ref.hostname != loc.hostname)); if (window.top !== window.self) { document.write(\\'<scr\\' + \\'ipt type=\"text/javascript\" src=\"//pl14377328.puserving.com/c6/8c/a6/c68ca6e99e6534cd0d910dd2142445ae.js\"></scr\\' + \\'ipt>\\'); }\\nInformation\\næ¢\\x9dæ¬¾å\\x92\\x8cæ¢\\x9dä»¶\\nç§\\x81é\\x9a±æ\\x94¿ç\\xad\\x96\\nDMCA\\n2257\\nSelect Language\\næ\\x97¥æ\\x9c¬èª\\x9e(Japanese)\\nEnglish\\nç\\x89\\x88æ¬\\x8a © 1999-2036 AV01.tv\\n//<![CDATA[ try{window.CloudFlare||function(){var a=window.document,b=a.createElement(\"script\"),a=a.getElementsByTagName(\"script\")[0];window.CloudFlare=[];b.type=\"text/javascript\";b.async=!0;b.src=\"//ajax.cloudflare.com/cdn-cgi/nexp/cloudflare.js\";a.parentNode.insertBefore(b,a)}(),CloudFlare.push(function(a){a([\"cloudflare/badge\"])})}catch(e$$5){try{console.error(\"CloudFlare badge code could not be loaded. \"+e$$5.message)}catch(e$$6){}}; //]]>\\nç\\x89\\x88æ¬\\x8a © 2008-2016 AV01.tv\\nif (navigator.userAgent.match(/IEMobile\\\\/10\\\\.0/)) { var msViewportStyle = document.createElement(\\'style\\') msViewportStyle.appendChild( document.createTextNode( \\'@-ms-viewport{width:auto!important}\\' ) ) document.querySelector(\\'head\\').appendChild(msViewportStyle) }'"
      ]
     },
     "execution_count": 7,
     "metadata": {},
     "output_type": "execute_result"
    }
   ],
   "source": [
    "d.text()"
   ]
  }
 ],
 "metadata": {
  "kernelspec": {
   "display_name": "Python 3",
   "language": "python",
   "name": "python3"
  },
  "language_info": {
   "codemirror_mode": {
    "name": "ipython",
    "version": 3
   },
   "file_extension": ".py",
   "mimetype": "text/x-python",
   "name": "python",
   "nbconvert_exporter": "python",
   "pygments_lexer": "ipython3",
   "version": "3.7.0"
  }
 },
 "nbformat": 4,
 "nbformat_minor": 2
}
