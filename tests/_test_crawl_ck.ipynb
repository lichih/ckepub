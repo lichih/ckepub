{
 "cells": [
  {
   "cell_type": "code",
   "execution_count": 17,
   "metadata": {},
   "outputs": [],
   "source": [
    "from pyquery import PyQuery as pq\n",
    "import requests\n",
    "from requests import Session\n",
    "\n",
    "ua=\"Mozilla/5.0 (Windows NT 10.0; Win64; x64; rv:67.0) Gecko/20100101 Firefox/67.0\"\n",
    "tid=1799867\n",
    "s = Session()\n",
    "s.headers.update({'User-Agent': ua})\n"
   ]
  },
  {
   "cell_type": "code",
   "execution_count": 6,
   "metadata": {},
   "outputs": [],
   "source": [
    "# resp = s.get('https://ck101.com/forum.php?mod=viewthread&tid=1799867&extra=&page=80')\n",
    "# with open('input/p80.html', 'wt') as fp:\n",
    "#     fp.write(resp.text)\n",
    "    "
   ]
  },
  {
   "cell_type": "code",
   "execution_count": 14,
   "metadata": {
    "scrolled": true
   },
   "outputs": [
    {
     "name": "stdout",
     "output_type": "stream",
     "text": [
      "https://ck101.com/forum.php?mod=viewthread&tid=1799867&extra=&page=9 input/1799867/p9.html False\n"
     ]
    }
   ],
   "source": [
    "import os\n",
    "for i in range(8, 9):\n",
    "    url = f'https://ck101.com/forum.php?mod=viewthread&tid={tid}&extra=&page={i+1}'\n",
    "    fn = f'input/{tid}/p{i+1}.html'\n",
    "    print(url, fn, os.path.isfile(fn))\n",
    "    if os.path.isfile(fn):\n",
    "        continue\n",
    "    resp = s.get(url)\n",
    "    with open(fn, 'wt') as fp:\n",
    "        fp.write(resp.text)"
   ]
  },
  {
   "cell_type": "code",
   "execution_count": 15,
   "metadata": {
    "scrolled": false
   },
   "outputs": [
    {
     "name": "stdout",
     "output_type": "stream",
     "text": [
      "斗羅大陸 作者:唐家三少唐門外門弟子唐三，因偷學內門絕學為唐門所不容，跳崖明志時卻來到了另一個世界，一個屬於武魂的世界。名叫斗羅大陸。　　這裡沒有魔法，沒有鬥 ... [異世大陸]斗羅大陸 作者:唐家三少 (全文完)  (大陸,日常生活,明志,武魂,異世)\n"
     ]
    }
   ],
   "source": [
    "from pyquery import PyQuery as pq\n",
    "from dataclasses import dataclass\n",
    "@dataclass\n",
    "class CkBook:\n",
    "    tid: None\n",
    "\n",
    "    def prepare(self):\n",
    "        try:\n",
    "            work_folder = f'output/ck101/{tid}'\n",
    "            os.mkdir(work_folder)\n",
    "        except FileExistsError:\n",
    "            pass\n",
    "        try:\n",
    "            work_folder = os.path.join(work_folder, str(self.tid))\n",
    "            os.mkdir(work_folder)\n",
    "        except FileExistsError:\n",
    "            pass\n",
    "        self.work_folder = work_folder\n",
    "        fn = os.path.join(work_folder, 'p1.html')\n",
    "        if not os.path.isfile(fn):\n",
    "            self.get_page(1)\n",
    "        with open(fn, 'rt') as fp:\n",
    "            html = fp.read()\n",
    "            d = pq(html)\n",
    "        return d\n",
    "\n",
    "    def get_page(self, p):\n",
    "        url = f'https://ck101.com/forum.php?mod=viewthread&tid={self.tid}&extra=&page={p}'\n",
    "        fn = os.path.join(self.work_folder, f'p{p}.html')\n",
    "        try:\n",
    "            self.s\n",
    "        except AttributeError:\n",
    "            self.s = Session()\n",
    "            h = {'User-Agent': ua}\n",
    "            self.s.headers.update(h)\n",
    "        resp = self.s.get(url)\n",
    "        with open(fn, 'wt') as fp:\n",
    "            fp.write(resp.text)        \n",
    "\n",
    "# book = CkBook(3712209)\n",
    "book = CkBook(tid)\n",
    "d = book.prepare()\n",
    "print(d('meta[name=\"description\"]')[0].get('content'))"
   ]
  },
  {
   "cell_type": "code",
   "execution_count": 16,
   "metadata": {},
   "outputs": [
    {
     "data": {
      "text/plain": [
       "[<html>]"
      ]
     },
     "execution_count": 16,
     "metadata": {},
     "output_type": "execute_result"
    }
   ],
   "source": [
    "d"
   ]
  }
 ],
 "metadata": {
  "kernelspec": {
   "display_name": "Python 3",
   "language": "python",
   "name": "python3"
  },
  "language_info": {
   "codemirror_mode": {
    "name": "ipython",
    "version": 3
   },
   "file_extension": ".py",
   "mimetype": "text/x-python",
   "name": "python",
   "nbconvert_exporter": "python",
   "pygments_lexer": "ipython3",
   "version": "3.7.1"
  }
 },
 "nbformat": 4,
 "nbformat_minor": 2
}
